{
 "cells": [
  {
   "cell_type": "code",
   "execution_count": 2,
   "id": "ead15519",
   "metadata": {},
   "outputs": [],
   "source": [
    "from math import gcd\n",
    "def f(x, n):\n",
    "    return (x**2 + 5) % n"
   ]
  },
  {
   "cell_type": "code",
   "execution_count": 3,
   "id": "66be26aa",
   "metadata": {},
   "outputs": [],
   "source": [
    "def Pollard(n, a, b, d):\n",
    "    a = f(a, n)\n",
    "    b = f(f(b, n), n)\n",
    "    d = gcd(a - b, n)\n",
    "    if 1 < d < n:\n",
    "        print(d)\n",
    "        exit()\n",
    "    if d == n:\n",
    "        print(\"Делитель не найден\")\n",
    "    if d == 1:\n",
    "        Pollard(n, a, b, d)"
   ]
  },
  {
   "cell_type": "code",
   "execution_count": 4,
   "id": "0f6cab23",
   "metadata": {},
   "outputs": [],
   "source": [
    "def prim():\n",
    "    n = 1359331\n",
    "    c = 1\n",
    "    a = f(c, n)\n",
    "    b = f(a, n)\n",
    "    d = gcd(a - b, n)\n",
    "    if 1 < d < n:\n",
    "        print(d)\n",
    "        exit()\n",
    "    if d == n:\n",
    "        pass\n",
    "    if d == 1:\n",
    "        Pollard(n, a, b, d)"
   ]
  },
  {
   "cell_type": "code",
   "execution_count": 5,
   "id": "c83f1add",
   "metadata": {},
   "outputs": [
    {
     "name": "stdout",
     "output_type": "stream",
     "text": [
      "1181\n"
     ]
    }
   ],
   "source": [
    "prim()"
   ]
  },
  {
   "cell_type": "markdown",
   "id": "28290fc9",
   "metadata": {},
   "source": [
    "| i | *a* | *b* | *d* = НОД(*a* - *b, n*) |\n",
    "| --- | --- | --- | --- |\n",
    "|  | 1 | 1 |  |\n",
    "| 2 | 6 | 41 | 1 |\n",
    "| 2 | 41 | 123939 | 1 |\n",
    "| 3 | 1686 | 391594 | 1 |\n",
    "| 4 | 123939 | 438157 | 1 |\n",
    "| 5 | 435426 | 582738 | 1 |\n",
    "| 6 | 391594 | 1144026 | 1 |\n",
    "| 7 | 1090062 | 885749 | 1181 |"
   ]
  }
 ],
 "metadata": {
  "kernelspec": {
   "display_name": "Python 3 (ipykernel)",
   "language": "python",
   "name": "python3"
  },
  "language_info": {
   "codemirror_mode": {
    "name": "ipython",
    "version": 3
   },
   "file_extension": ".py",
   "mimetype": "text/x-python",
   "name": "python",
   "nbconvert_exporter": "python",
   "pygments_lexer": "ipython3",
   "version": "3.9.13"
  }
 },
 "nbformat": 4,
 "nbformat_minor": 5
}
